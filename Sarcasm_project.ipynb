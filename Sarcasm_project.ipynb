{
  "cells": [
    {
      "cell_type": "markdown",
      "metadata": {
        "id": "va75GAtYb0WB"
      },
      "source": [
        "# DSI Module 3 - Team Air Quotes\n",
        "## Natural Language Processing (NLP)\n",
        "\n",
        "\n",
        "<img src='https://miro.medium.com/max/960/0*xLRsbQ02J7sQpNNy'>\n",
        "\n",
        "Image courtesy of ITNEXT"
      ]
    },
    {
      "cell_type": "markdown",
      "metadata": {
        "id": "ACzRWC8Eb0WD"
      },
      "source": [
        "### Team members: Nmeso, Mekondjo, Lali, and Akhil\n",
        "\n",
        "### Team tutor: Felix\n",
        "\n",
        "\n",
        "\n",
        "## Goal\n",
        "In this module, the purpose is the explore and appy NLP. After each team member had come up with at least one idea, it was decided that we would explore and implement a sarcasm detector. \n",
        "\n",
        "## Background\n",
        "The Cambridge English dictionary defines sarcasm as \"the use of remarks that clearly mean the opposite of what they say, made in order to hurt someone's feelings or to criticize something in a humorous way\" [1].  The Merriam-Webster dictionary defines it as \"a sharp and often satirical or ironic utterance designed to cut or give pain\" [2]. Not everybody would agree about these definitions, but sarcasm is usually when positive words are used to convey a negative message. Naturally, it differs from person to person and is highly dependent on the culture, gender and many other aspects. \n",
        "\n",
        "## Motivation\n",
        "Especially for beginner learners of any language, identifying sarcasm can remains challenging. Things can be lost in translation, and people can feel hurt unintentiionally. That is why the purpose of a sarcasm detector would help people understand when something is sarcastic and not take it the wrong way. This is why as a baseline, it was decided that we would focus on detecting sarcasm on news headlines as this is a form of widely consumed media. Furthermore, this might be especially applicable in social media circumstances such as on Twitter and Facebook. In the future this could be useful would discriminating between harmful content and witty sentences. \n",
        "\n",
        "## Dataset \n",
        "The data used for the project was taken from kaggle. There were two JSON files ecah containg the 'is_sarcatic' and 'headlines' columns. The two files were joined to create a bigger data for the analysis. The complete date has 50,000 training examples with the data not significantly imbalanced.\n",
        "The data can be sourced [here](https://www.kaggle.com/datasets/rmisra/news-headlines-dataset-for-sarcasm-detection).\n",
        "\n",
        "## Recommendations for future works\n",
        "* More datasets\n",
        "* Expand to non-headlines\n",
        "* Hyperparameter fine tuning\n",
        "* Ensemble model\n",
        "* Expand to audio\n",
        "* Multi-channel NLP\n",
        "\n",
        "\n",
        "\n",
        "## References:\n",
        "1. https://dictionary.cambridge.org/dictionary/english/sarcasm\n",
        "\n",
        "2. https://www.merriam-webster.com/dictionary/sarcasm \n",
        "\n",
        "3. https://aclanthology.org/D13-1066.pdf\n",
        "\n",
        "4. https://paperswithcode.com/task/sarcasm-detection\n",
        "\n",
        "5. https://towardsdatascience.com/sarcasm-detection-with-nlp-cbff1723f69a\n"
      ]
    },
    {
      "cell_type": "markdown",
      "metadata": {
        "id": "sxaW_uW3gBH5"
      },
      "source": [
        "### Necessary imports"
      ]
    },
    {
      "cell_type": "code",
      "execution_count": 13,
      "metadata": {
        "id": "H0VoOhVph1JV"
      },
      "outputs": [],
      "source": [
        "# from google.colab import drive\n",
        "# drive.mount('/content/drive')"
      ]
    },
    {
      "cell_type": "code",
      "execution_count": 14,
      "metadata": {
        "id": "2Si-Iz3sW58D"
      },
      "outputs": [],
      "source": [
        "import numpy as np\n",
        "import pandas as pd\n",
        "import matplotlib.pyplot as plt\n",
        "import seaborn as sns\n",
        "%matplotlib inline"
      ]
    },
    {
      "cell_type": "code",
      "source": [
        "from google.colab import drive\n",
        "drive.mount('/content/drive')"
      ],
      "metadata": {
        "colab": {
          "base_uri": "https://localhost:8080/"
        },
        "id": "FuKT8An_wLT5",
        "outputId": "2fbea388-f2e5-4a0b-c62b-e5825371f6c4"
      },
      "execution_count": 15,
      "outputs": [
        {
          "output_type": "stream",
          "name": "stdout",
          "text": [
            "Mounted at /content/drive\n"
          ]
        }
      ]
    },
    {
      "cell_type": "markdown",
      "metadata": {
        "id": "BPN9LzITW58E"
      },
      "source": [
        "## Getting the data\n",
        "concatenate two datasets to increase my datasize or Train one dataset and use the second for cross validataion and test"
      ]
    },
    {
      "cell_type": "code",
      "execution_count": 16,
      "metadata": {
        "id": "V61v6tuRW58F"
      },
      "outputs": [],
      "source": [
        "def concat_dataset(dataset1,dataset2):\n",
        "    df1= pd.read_json(dataset1, lines= True)\n",
        "    df2 = pd.read_json(dataset2, lines= True)\n",
        "    return pd.concat((df1,df2), axis =0, sort =True)"
      ]
    },
    {
      "cell_type": "code",
      "execution_count": 17,
      "metadata": {
        "id": "vEALaRVSW58F"
      },
      "outputs": [],
      "source": [
        "ds1 = '/content/drive/MyDrive/M3/Sarcasm_Headlines_Dataset.json'\n",
        "ds2 = '/content/drive/MyDrive/M3/Sarcasm_Headlines_Dataset_v2.json'\n",
        "df = concat_dataset(ds1,ds2)"
      ]
    },
    {
      "cell_type": "markdown",
      "metadata": {
        "id": "tlFyGiL-W58G"
      },
      "source": [
        "## Exploratory Data Analysis"
      ]
    },
    {
      "cell_type": "markdown",
      "metadata": {
        "id": "AV7a_cu0b0WQ"
      },
      "source": [
        "> Extract the company from the article link as a feature to determine if certain companies will be prone to have sarcastic headlines\n",
        "\n",
        ">Check for null values, unique values and correlation\n",
        "\n",
        "> visualize the data"
      ]
    },
    {
      "cell_type": "code",
      "execution_count": 18,
      "metadata": {
        "id": "ibxIwfj-W58G"
      },
      "outputs": [],
      "source": [
        "df = df.reset_index(drop=True)"
      ]
    },
    {
      "cell_type": "code",
      "execution_count": 19,
      "metadata": {
        "id": "VuOwHBmrW58I",
        "colab": {
          "base_uri": "https://localhost:8080/"
        },
        "outputId": "812165c3-e1b2-43ab-b537-3366dfd38b75"
      },
      "outputs": [
        {
          "output_type": "stream",
          "name": "stderr",
          "text": [
            "  0%|          | 0/55328 [00:00<?, ?it/s]/usr/local/lib/python3.7/dist-packages/ipykernel_launcher.py:8: SettingWithCopyWarning: \n",
            "A value is trying to be set on a copy of a slice from a DataFrame\n",
            "\n",
            "See the caveats in the documentation: https://pandas.pydata.org/pandas-docs/stable/user_guide/indexing.html#returning-a-view-versus-a-copy\n",
            "  \n",
            "/usr/local/lib/python3.7/dist-packages/pandas/core/indexing.py:1732: SettingWithCopyWarning: \n",
            "A value is trying to be set on a copy of a slice from a DataFrame\n",
            "\n",
            "See the caveats in the documentation: https://pandas.pydata.org/pandas-docs/stable/user_guide/indexing.html#returning-a-view-versus-a-copy\n",
            "  self._setitem_single_block(indexer, value, name)\n",
            "100%|██████████| 55328/55328 [00:01<00:00, 31031.82it/s]\n"
          ]
        }
      ],
      "source": [
        "from urllib.parse import urlparse,urlsplit\n",
        "from tqdm import tqdm\n",
        "import time\n",
        "df['web_page'] = 0\n",
        "for i in tqdm(range(len(df))):\n",
        "    address = df['article_link'][i]\n",
        "    parsed = urlparse(address)\n",
        "    df['web_page'][i] = parsed.netloc.split('.')[1] "
      ]
    },
    {
      "cell_type": "code",
      "execution_count": 20,
      "metadata": {
        "id": "wYrA7DcJW58J",
        "colab": {
          "base_uri": "https://localhost:8080/"
        },
        "outputId": "7e96e722-497e-4147-a120-d44d9bab6526"
      },
      "outputs": [
        {
          "output_type": "execute_result",
          "data": {
            "text/plain": [
              "article_link    0\n",
              "headline        0\n",
              "is_sarcastic    0\n",
              "web_page        0\n",
              "dtype: int64"
            ]
          },
          "metadata": {},
          "execution_count": 20
        }
      ],
      "source": [
        "df.isnull().sum()"
      ]
    },
    {
      "cell_type": "code",
      "execution_count": 21,
      "metadata": {
        "id": "xT77i9K2W58J",
        "colab": {
          "base_uri": "https://localhost:8080/"
        },
        "outputId": "9368257c-4f84-4d96-a76c-4ca91e4925e5"
      },
      "outputs": [
        {
          "output_type": "execute_result",
          "data": {
            "text/plain": [
              "2"
            ]
          },
          "metadata": {},
          "execution_count": 21
        }
      ],
      "source": [
        "df['web_page'].nunique()"
      ]
    },
    {
      "cell_type": "code",
      "execution_count": 22,
      "metadata": {
        "id": "IS2VneF8W58K"
      },
      "outputs": [],
      "source": [
        "df['text length'] = df['headline'].apply(len)"
      ]
    },
    {
      "cell_type": "code",
      "execution_count": 23,
      "metadata": {
        "id": "SE6NFQN8W58K",
        "colab": {
          "base_uri": "https://localhost:8080/",
          "height": 352
        },
        "outputId": "4e56df61-8d81-44a5-9d42-b2bee35e7b94"
      },
      "outputs": [
        {
          "output_type": "stream",
          "name": "stderr",
          "text": [
            "/usr/local/lib/python3.7/dist-packages/seaborn/distributions.py:2619: FutureWarning: `distplot` is a deprecated function and will be removed in a future version. Please adapt your code to use either `displot` (a figure-level function with similar flexibility) or `histplot` (an axes-level function for histograms).\n",
            "  warnings.warn(msg, FutureWarning)\n"
          ]
        },
        {
          "output_type": "execute_result",
          "data": {
            "text/plain": [
              "<matplotlib.axes._subplots.AxesSubplot at 0x7f2f2d169810>"
            ]
          },
          "metadata": {},
          "execution_count": 23
        },
        {
          "output_type": "display_data",
          "data": {
            "text/plain": [
              "<Figure size 432x288 with 1 Axes>"
            ],
            "image/png": "[encoded data removed]"
          },
          "metadata": {
            "needs_background": "light"
          }
        }
      ],
      "source": [
        "sns.distplot(df['is_sarcastic'], kde=False)"
      ]
    },
    {
      "cell_type": "code",
      "execution_count": 24,
      "metadata": {
        "id": "rb6mRTbMW58K",
        "colab": {
          "base_uri": "https://localhost:8080/",
          "height": 352
        },
        "outputId": "a3c052e5-d2ae-4799-fe24-77bc3ce1e21c"
      },
      "outputs": [
        {
          "output_type": "stream",
          "name": "stderr",
          "text": [
            "/usr/local/lib/python3.7/dist-packages/seaborn/_decorators.py:43: FutureWarning: Pass the following variable as a keyword arg: x. From version 0.12, the only valid positional argument will be `data`, and passing other arguments without an explicit keyword will result in an error or misinterpretation.\n",
            "  FutureWarning\n"
          ]
        },
        {
          "output_type": "execute_result",
          "data": {
            "text/plain": [
              "<matplotlib.axes._subplots.AxesSubplot at 0x7f2f2cbfb250>"
            ]
          },
          "metadata": {},
          "execution_count": 24
        },
        {
          "output_type": "display_data",
          "data": {
            "text/plain": [
              "<Figure size 432x288 with 1 Axes>"
            ],
            "image/png": "[encoded data removed]"
          },
          "metadata": {
            "needs_background": "light"
          }
        }
      ],
      "source": [
        "sns.countplot(df['web_page'])"
      ]
    },
    {
      "cell_type": "code",
      "execution_count": 25,
      "metadata": {
        "id": "drKPwY0WW58L",
        "colab": {
          "base_uri": "https://localhost:8080/",
          "height": 352
        },
        "outputId": "111365a9-90d7-4e91-82aa-6a883b9ea203"
      },
      "outputs": [
        {
          "output_type": "execute_result",
          "data": {
            "text/plain": [
              "<matplotlib.axes._subplots.AxesSubplot at 0x7f2f2c3aeb90>"
            ]
          },
          "metadata": {},
          "execution_count": 25
        },
        {
          "output_type": "display_data",
          "data": {
            "text/plain": [
              "<Figure size 504x360 with 1 Axes>"
            ],
            "image/png": "[encoded data removed]"
          },
          "metadata": {
            "needs_background": "light"
          }
        }
      ],
      "source": [
        "ax =plt.figure(figsize = (7,5))\n",
        "sns.boxplot(x=df['is_sarcastic'] ,y=df['text length'] ,data = df )"
      ]
    },
    {
      "cell_type": "markdown",
      "metadata": {
        "id": "jF2561xtW58L"
      },
      "source": [
        "From the Boxplot, there is presence outliers. Finding out if the total count of the outliers to determine if can be dropped without affecting the dataset."
      ]
    },
    {
      "cell_type": "code",
      "execution_count": 26,
      "metadata": {
        "id": "-hDvaXdnW58L",
        "colab": {
          "base_uri": "https://localhost:8080/"
        },
        "outputId": "47c19cd4-1d6d-42d0-83fe-14e557b22194"
      },
      "outputs": [
        {
          "output_type": "execute_result",
          "data": {
            "text/plain": [
              "926"
            ]
          },
          "metadata": {},
          "execution_count": 26
        }
      ],
      "source": [
        "df['text length'].max()"
      ]
    },
    {
      "cell_type": "code",
      "execution_count": 27,
      "metadata": {
        "id": "xR5x4sROW58M",
        "colab": {
          "base_uri": "https://localhost:8080/"
        },
        "outputId": "4a591e5d-3a1b-417a-cfef-45693a411b5e"
      },
      "outputs": [
        {
          "output_type": "execute_result",
          "data": {
            "text/plain": [
              "34011    926\n",
              "28855    254\n",
              "19868    254\n",
              "43297    238\n",
              "17306    238\n",
              "        ... \n",
              "22596      8\n",
              "36829      8\n",
              "38598      8\n",
              "55085      7\n",
              "20551      7\n",
              "Name: text length, Length: 55328, dtype: int64"
            ]
          },
          "metadata": {},
          "execution_count": 27
        }
      ],
      "source": [
        "df['text length'].sort_values(ascending=False)"
      ]
    },
    {
      "cell_type": "code",
      "execution_count": 28,
      "metadata": {
        "id": "BMb-WsSIW58M",
        "colab": {
          "base_uri": "https://localhost:8080/",
          "height": 81
        },
        "outputId": "feb61785-991b-4497-b87e-b8b1196d7e97"
      },
      "outputs": [
        {
          "output_type": "execute_result",
          "data": {
            "text/plain": [
              "                                            article_link  \\\n",
              "34011  https://www.theonion.com/hot-wheels-ranked-num...   \n",
              "\n",
              "                                                headline  is_sarcastic  \\\n",
              "34011  hot wheels ranked number one toy for rolling d...             1   \n",
              "\n",
              "       web_page  text length  \n",
              "34011  theonion          926  "
            ],
            "text/html": [
              "\n",
              "  <div id=\"df-459a4547-b0dd-468c-bdba-ed766a3f6e75\">\n",
              "    <div class=\"colab-df-container\">\n",
              "      <div>\n",
              "<style scoped>\n",
              "    .dataframe tbody tr th:only-of-type {\n",
              "        vertical-align: middle;\n",
              "    }\n",
              "\n",
              "    .dataframe tbody tr th {\n",
              "        vertical-align: top;\n",
              "    }\n",
              "\n",
              "    .dataframe thead th {\n",
              "        text-align: right;\n",
              "    }\n",
              "</style>\n",
              "<table border=\"1\" class=\"dataframe\">\n",
              "  <thead>\n",
              "    <tr style=\"text-align: right;\">\n",
              "      <th></th>\n",
              "      <th>article_link</th>\n",
              "      <th>headline</th>\n",
              "      <th>is_sarcastic</th>\n",
              "      <th>web_page</th>\n",
              "      <th>text length</th>\n",
              "    </tr>\n",
              "  </thead>\n",
              "  <tbody>\n",
              "    <tr>\n",
              "      <th>34011</th>\n",
              "      <td>https://www.theonion.com/hot-wheels-ranked-num...</td>\n",
              "      <td>hot wheels ranked number one toy for rolling d...</td>\n",
              "      <td>1</td>\n",
              "      <td>theonion</td>\n",
              "      <td>926</td>\n",
              "    </tr>\n",
              "  </tbody>\n",
              "</table>\n",
              "</div>\n",
              "      <button class=\"colab-df-convert\" onclick=\"convertToInteractive('df-459a4547-b0dd-468c-bdba-ed766a3f6e75')\"\n",
              "              title=\"Convert this dataframe to an interactive table.\"\n",
              "              style=\"display:none;\">\n",
              "        \n",
              "  <svg xmlns=\"http://www.w3.org/2000/svg\" height=\"24px\"viewBox=\"0 0 24 24\"\n",
              "       width=\"24px\">\n",
              "    <path d=\"M0 0h24v24H0V0z\" fill=\"none\"/>\n",
              "    <path d=\"M18.56 5.44l.94 2.06.94-2.06 2.06-.94-2.06-.94-.94-2.06-.94 2.06-2.06.94zm-11 1L8.5 8.5l.94-2.06 2.06-.94-2.06-.94L8.5 2.5l-.94 2.06-2.06.94zm10 10l.94 2.06.94-2.06 2.06-.94-2.06-.94-.94-2.06-.94 2.06-2.06.94z\"/><path d=\"M17.41 7.96l-1.37-1.37c-.4-.4-.92-.59-1.43-.59-.52 0-1.04.2-1.43.59L10.3 9.45l-7.72 7.72c-.78.78-.78 2.05 0 2.83L4 21.41c.39.39.9.59 1.41.59.51 0 1.02-.2 1.41-.59l7.78-7.78 2.81-2.81c.8-.78.8-2.07 0-2.86zM5.41 20L4 18.59l7.72-7.72 1.47 1.35L5.41 20z\"/>\n",
              "  </svg>\n",
              "      </button>\n",
              "      \n",
              "  <style>\n",
              "    .colab-df-container {\n",
              "      display:flex;\n",
              "      flex-wrap:wrap;\n",
              "      gap: 12px;\n",
              "    }\n",
              "\n",
              "    .colab-df-convert {\n",
              "      background-color: #E8F0FE;\n",
              "      border: none;\n",
              "      border-radius: 50%;\n",
              "      cursor: pointer;\n",
              "      display: none;\n",
              "      fill: #1967D2;\n",
              "      height: 32px;\n",
              "      padding: 0 0 0 0;\n",
              "      width: 32px;\n",
              "    }\n",
              "\n",
              "    .colab-df-convert:hover {\n",
              "      background-color: #E2EBFA;\n",
              "      box-shadow: 0px 1px 2px rgba(60, 64, 67, 0.3), 0px 1px 3px 1px rgba(60, 64, 67, 0.15);\n",
              "      fill: #174EA6;\n",
              "    }\n",
              "\n",
              "    [theme=dark] .colab-df-convert {\n",
              "      background-color: #3B4455;\n",
              "      fill: #D2E3FC;\n",
              "    }\n",
              "\n",
              "    [theme=dark] .colab-df-convert:hover {\n",
              "      background-color: #434B5C;\n",
              "      box-shadow: 0px 1px 3px 1px rgba(0, 0, 0, 0.15);\n",
              "      filter: drop-shadow(0px 1px 2px rgba(0, 0, 0, 0.3));\n",
              "      fill: #FFFFFF;\n",
              "    }\n",
              "  </style>\n",
              "\n",
              "      <script>\n",
              "        const buttonEl =\n",
              "          document.querySelector('#df-459a4547-b0dd-468c-bdba-ed766a3f6e75 button.colab-df-convert');\n",
              "        buttonEl.style.display =\n",
              "          google.colab.kernel.accessAllowed ? 'block' : 'none';\n",
              "\n",
              "        async function convertToInteractive(key) {\n",
              "          const element = document.querySelector('#df-459a4547-b0dd-468c-bdba-ed766a3f6e75');\n",
              "          const dataTable =\n",
              "            await google.colab.kernel.invokeFunction('convertToInteractive',\n",
              "                                                     [key], {});\n",
              "          if (!dataTable) return;\n",
              "\n",
              "          const docLinkHtml = 'Like what you see? Visit the ' +\n",
              "            '<a target=\"_blank\" href=https://colab.research.google.com/notebooks/data_table.ipynb>data table notebook</a>'\n",
              "            + ' to learn more about interactive tables.';\n",
              "          element.innerHTML = '';\n",
              "          dataTable['output_type'] = 'display_data';\n",
              "          await google.colab.output.renderOutput(dataTable, element);\n",
              "          const docLink = document.createElement('div');\n",
              "          docLink.innerHTML = docLinkHtml;\n",
              "          element.appendChild(docLink);\n",
              "        }\n",
              "      </script>\n",
              "    </div>\n",
              "  </div>\n",
              "  "
            ]
          },
          "metadata": {},
          "execution_count": 28
        }
      ],
      "source": [
        "df[df['text length']== max(df['text length'])]"
      ]
    },
    {
      "cell_type": "markdown",
      "metadata": {
        "id": "tYldCPzeW58M"
      },
      "source": [
        "Since the outlier is just 1 dropping it would not affect the data."
      ]
    },
    {
      "cell_type": "code",
      "execution_count": 29,
      "metadata": {
        "id": "v25g6hV1W58N"
      },
      "outputs": [],
      "source": [
        "df.drop(axis= 0, index = 7302, inplace=True)"
      ]
    },
    {
      "cell_type": "code",
      "execution_count": 30,
      "metadata": {
        "id": "Gl0mUmniW58N",
        "colab": {
          "base_uri": "https://localhost:8080/",
          "height": 352
        },
        "outputId": "f06ec95c-472d-4bd8-dbd6-6f239eef6e16"
      },
      "outputs": [
        {
          "output_type": "execute_result",
          "data": {
            "text/plain": [
              "<matplotlib.axes._subplots.AxesSubplot at 0x7f2f2dc9f390>"
            ]
          },
          "metadata": {},
          "execution_count": 30
        },
        {
          "output_type": "display_data",
          "data": {
            "text/plain": [
              "<Figure size 504x360 with 1 Axes>"
            ],
            "image/png": "[encoded data removed]"
          },
          "metadata": {
            "needs_background": "light"
          }
        }
      ],
      "source": [
        "ax =plt.figure(figsize = (7,5))\n",
        "sns.countplot(x=df['is_sarcastic'] ,data = df )"
      ]
    },
    {
      "cell_type": "code",
      "execution_count": 31,
      "metadata": {
        "id": "4U2hdQXTW58N",
        "colab": {
          "base_uri": "https://localhost:8080/",
          "height": 282
        },
        "outputId": "e7019205-0db9-4860-9a61-a17aec52fdff"
      },
      "outputs": [
        {
          "output_type": "execute_result",
          "data": {
            "text/plain": [
              "<matplotlib.axes._subplots.AxesSubplot at 0x7f2f2c6b4450>"
            ]
          },
          "metadata": {},
          "execution_count": 31
        },
        {
          "output_type": "display_data",
          "data": {
            "text/plain": [
              "<Figure size 432x288 with 1 Axes>"
            ],
            "image/png": "[encoded data removed]"
          },
          "metadata": {
            "needs_background": "light"
          }
        }
      ],
      "source": [
        "sns.set_style = 'whitegrid'\n",
        "df['text length'].plot(bins=20, kind='hist')"
      ]
    },
    {
      "cell_type": "code",
      "execution_count": 32,
      "metadata": {
        "id": "dr5g4VhYW58O",
        "colab": {
          "base_uri": "https://localhost:8080/",
          "height": 341
        },
        "outputId": "936019ca-3c52-49fc-b633-ce7e9dd0c38c"
      },
      "outputs": [
        {
          "output_type": "execute_result",
          "data": {
            "text/plain": [
              "array([<matplotlib.axes._subplots.AxesSubplot object at 0x7f2f2dcc7490>,\n",
              "       <matplotlib.axes._subplots.AxesSubplot object at 0x7f2f2dc03bd0>],\n",
              "      dtype=object)"
            ]
          },
          "metadata": {},
          "execution_count": 32
        },
        {
          "output_type": "display_data",
          "data": {
            "text/plain": [
              "<Figure size 864x288 with 2 Axes>"
            ],
            "image/png": "[encoded data removed]"
          },
          "metadata": {
            "needs_background": "light"
          }
        }
      ],
      "source": [
        "df.hist(column='text length', by='is_sarcastic', bins=50,figsize=(12,4))"
      ]
    },
    {
      "cell_type": "markdown",
      "metadata": {
        "id": "Tlz2vS4pW58O"
      },
      "source": [
        "This shows that there is trend relating the text lendth to the label. Further taking a .corr() between the columns."
      ]
    },
    {
      "cell_type": "code",
      "execution_count": 33,
      "metadata": {
        "id": "jLAqS76rW58O",
        "colab": {
          "base_uri": "https://localhost:8080/",
          "height": 112
        },
        "outputId": "8299a815-c2cf-4197-81ee-d0d50565986f"
      },
      "outputs": [
        {
          "output_type": "execute_result",
          "data": {
            "text/plain": [
              "              is_sarcastic  text length\n",
              "is_sarcastic      1.000000     0.112743\n",
              "text length       0.112743     1.000000"
            ],
            "text/html": [
              "\n",
              "  <div id=\"df-e5842e92-a755-4626-ab9f-5ea79e01abbf\">\n",
              "    <div class=\"colab-df-container\">\n",
              "      <div>\n",
              "<style scoped>\n",
              "    .dataframe tbody tr th:only-of-type {\n",
              "        vertical-align: middle;\n",
              "    }\n",
              "\n",
              "    .dataframe tbody tr th {\n",
              "        vertical-align: top;\n",
              "    }\n",
              "\n",
              "    .dataframe thead th {\n",
              "        text-align: right;\n",
              "    }\n",
              "</style>\n",
              "<table border=\"1\" class=\"dataframe\">\n",
              "  <thead>\n",
              "    <tr style=\"text-align: right;\">\n",
              "      <th></th>\n",
              "      <th>is_sarcastic</th>\n",
              "      <th>text length</th>\n",
              "    </tr>\n",
              "  </thead>\n",
              "  <tbody>\n",
              "    <tr>\n",
              "      <th>is_sarcastic</th>\n",
              "      <td>1.000000</td>\n",
              "      <td>0.112743</td>\n",
              "    </tr>\n",
              "    <tr>\n",
              "      <th>text length</th>\n",
              "      <td>0.112743</td>\n",
              "      <td>1.000000</td>\n",
              "    </tr>\n",
              "  </tbody>\n",
              "</table>\n",
              "</div>\n",
              "      <button class=\"colab-df-convert\" onclick=\"convertToInteractive('df-e5842e92-a755-4626-ab9f-5ea79e01abbf')\"\n",
              "              title=\"Convert this dataframe to an interactive table.\"\n",
              "              style=\"display:none;\">\n",
              "        \n",
              "  <svg xmlns=\"http://www.w3.org/2000/svg\" height=\"24px\"viewBox=\"0 0 24 24\"\n",
              "       width=\"24px\">\n",
              "    <path d=\"M0 0h24v24H0V0z\" fill=\"none\"/>\n",
              "    <path d=\"M18.56 5.44l.94 2.06.94-2.06 2.06-.94-2.06-.94-.94-2.06-.94 2.06-2.06.94zm-11 1L8.5 8.5l.94-2.06 2.06-.94-2.06-.94L8.5 2.5l-.94 2.06-2.06.94zm10 10l.94 2.06.94-2.06 2.06-.94-2.06-.94-.94-2.06-.94 2.06-2.06.94z\"/><path d=\"M17.41 7.96l-1.37-1.37c-.4-.4-.92-.59-1.43-.59-.52 0-1.04.2-1.43.59L10.3 9.45l-7.72 7.72c-.78.78-.78 2.05 0 2.83L4 21.41c.39.39.9.59 1.41.59.51 0 1.02-.2 1.41-.59l7.78-7.78 2.81-2.81c.8-.78.8-2.07 0-2.86zM5.41 20L4 18.59l7.72-7.72 1.47 1.35L5.41 20z\"/>\n",
              "  </svg>\n",
              "      </button>\n",
              "      \n",
              "  <style>\n",
              "    .colab-df-container {\n",
              "      display:flex;\n",
              "      flex-wrap:wrap;\n",
              "      gap: 12px;\n",
              "    }\n",
              "\n",
              "    .colab-df-convert {\n",
              "      background-color: #E8F0FE;\n",
              "      border: none;\n",
              "      border-radius: 50%;\n",
              "      cursor: pointer;\n",
              "      display: none;\n",
              "      fill: #1967D2;\n",
              "      height: 32px;\n",
              "      padding: 0 0 0 0;\n",
              "      width: 32px;\n",
              "    }\n",
              "\n",
              "    .colab-df-convert:hover {\n",
              "      background-color: #E2EBFA;\n",
              "      box-shadow: 0px 1px 2px rgba(60, 64, 67, 0.3), 0px 1px 3px 1px rgba(60, 64, 67, 0.15);\n",
              "      fill: #174EA6;\n",
              "    }\n",
              "\n",
              "    [theme=dark] .colab-df-convert {\n",
              "      background-color: #3B4455;\n",
              "      fill: #D2E3FC;\n",
              "    }\n",
              "\n",
              "    [theme=dark] .colab-df-convert:hover {\n",
              "      background-color: #434B5C;\n",
              "      box-shadow: 0px 1px 3px 1px rgba(0, 0, 0, 0.15);\n",
              "      filter: drop-shadow(0px 1px 2px rgba(0, 0, 0, 0.3));\n",
              "      fill: #FFFFFF;\n",
              "    }\n",
              "  </style>\n",
              "\n",
              "      <script>\n",
              "        const buttonEl =\n",
              "          document.querySelector('#df-e5842e92-a755-4626-ab9f-5ea79e01abbf button.colab-df-convert');\n",
              "        buttonEl.style.display =\n",
              "          google.colab.kernel.accessAllowed ? 'block' : 'none';\n",
              "\n",
              "        async function convertToInteractive(key) {\n",
              "          const element = document.querySelector('#df-e5842e92-a755-4626-ab9f-5ea79e01abbf');\n",
              "          const dataTable =\n",
              "            await google.colab.kernel.invokeFunction('convertToInteractive',\n",
              "                                                     [key], {});\n",
              "          if (!dataTable) return;\n",
              "\n",
              "          const docLinkHtml = 'Like what you see? Visit the ' +\n",
              "            '<a target=\"_blank\" href=https://colab.research.google.com/notebooks/data_table.ipynb>data table notebook</a>'\n",
              "            + ' to learn more about interactive tables.';\n",
              "          element.innerHTML = '';\n",
              "          dataTable['output_type'] = 'display_data';\n",
              "          await google.colab.output.renderOutput(dataTable, element);\n",
              "          const docLink = document.createElement('div');\n",
              "          docLink.innerHTML = docLinkHtml;\n",
              "          element.appendChild(docLink);\n",
              "        }\n",
              "      </script>\n",
              "    </div>\n",
              "  </div>\n",
              "  "
            ]
          },
          "metadata": {},
          "execution_count": 33
        }
      ],
      "source": [
        "df.corr()"
      ]
    },
    {
      "cell_type": "markdown",
      "metadata": {
        "id": "muOzH41bW58O"
      },
      "source": [
        "The two features are poorly correlated so, text length is a good column to drop (I should not have created it in the first instance)"
      ]
    },
    {
      "cell_type": "markdown",
      "metadata": {
        "id": "nCnelYkXW58O"
      },
      "source": [
        "## Text Preprocessing"
      ]
    },
    {
      "cell_type": "code",
      "execution_count": 34,
      "metadata": {
        "id": "ip9iqsz6W58O",
        "colab": {
          "base_uri": "https://localhost:8080/"
        },
        "outputId": "36209faa-1d12-4960-e2b5-e8ad6502e602"
      },
      "outputs": [
        {
          "output_type": "stream",
          "name": "stdout",
          "text": [
            "[nltk_data] Downloading package stopwords to /root/nltk_data...\n",
            "[nltk_data]   Unzipping corpora/stopwords.zip.\n"
          ]
        }
      ],
      "source": [
        "import nltk\n",
        "nltk.download('stopwords')\n",
        "import string\n",
        "from nltk.corpus import stopwords"
      ]
    },
    {
      "cell_type": "markdown",
      "metadata": {
        "id": "VW0WCKerW58P"
      },
      "source": [
        "Defining a function to apply to the headlines for text processing, the function should\n",
        ">remove digits and newlines\n",
        "\n",
        ">remove punctuations\n",
        "\n",
        ">remove stop words\n",
        "\n",
        ">return a tokenized output"
      ]
    },
    {
      "cell_type": "code",
      "execution_count": 35,
      "metadata": {
        "id": "8lszcaMab0Wj"
      },
      "outputs": [],
      "source": [
        "import spacy\n",
        "nlp = spacy.load('en_core_web_sm')\n",
        "\n",
        "def preprocess(text):\n",
        "    doc = nlp(text)\n",
        "    lemmas = [token.lemma_ for token in doc]\n",
        "    a_lemmas = [lemma.lower() for lemma in lemmas if lemma.isalpha() and lemma not in stopwords.words('english')]\n",
        "    lemmatized_text = ' '.join(a_lemmas)\n",
        "    return lemmatized_text"
      ]
    },
    {
      "cell_type": "code",
      "execution_count": 36,
      "metadata": {
        "id": "gEqAXihRW58P"
      },
      "outputs": [],
      "source": [
        "def text_processing(headline):\n",
        "    \"\"\"\n",
        "    Takes in a string of text, then performs the following:\n",
        "    1. Remove all punctuation\n",
        "    2. Remove all stopwords\n",
        "    3. Returns a list of the cleaned text in lower case\n",
        "    \"\"\"\n",
        "    nopunc = ''.join([char for char in headline if char not in string.punctuation])\n",
        "    nopunc = ''.join([char for char in nopunc if not char.isdigit()])\n",
        "    clean_text = [word.lower() for word in nopunc.split() if word.lower() not in stopwords.words('english')]\n",
        "    return clean_text"
      ]
    },
    {
      "cell_type": "markdown",
      "metadata": {
        "id": "MvaO2bbUb0Wj"
      },
      "source": [
        "WordCloud is a technique to show which words are the most frequent among the given text. Visualizing the most frequent words from the cleaned text we obtained."
      ]
    },
    {
      "cell_type": "code",
      "execution_count": null,
      "metadata": {
        "id": "R1B0McTBb0Wk"
      },
      "outputs": [],
      "source": [
        "cleaned_text = []\n",
        "for text in df['headline']:\n",
        "    cleaned_text.append(preprocess(text))\n",
        "df['clean_text'] = cleaned_text"
      ]
    },
    {
      "cell_type": "code",
      "execution_count": null,
      "metadata": {
        "id": "_DvkFUsab0Wk"
      },
      "outputs": [],
      "source": [
        "from wordcloud import WordCloud\n",
        "\n",
        "def plot_wordcloud(df):\n",
        "    '''function to plot wordcloud from a given dataframe'''\n",
        "    plt.figure(figsize = (20,10))\n",
        "    wc = WordCloud(width = 1500,height = 1000,max_words = 1000).generate(' '.join(word for word in df))\n",
        "    plt.axis(\"off\")\n",
        "    plt.title('Wordcloud')\n",
        "    plt.imshow(wc , interpolation = 'bilinear')\n",
        "\n",
        "plot_wordcloud(df.clean_text)"
      ]
    },
    {
      "cell_type": "code",
      "execution_count": null,
      "metadata": {
        "id": "ugyLlGXyW58P"
      },
      "outputs": [],
      "source": [
        "from sklearn.feature_extraction.text import CountVectorizer\n",
        "from sklearn.feature_extraction.text import TfidfTransformer\n",
        "from sklearn.model_selection import train_test_split\n",
        "from sklearn.naive_bayes import MultinomialNB\n",
        "from sklearn.metrics import classification_report,confusion_matrix\n",
        "from sklearn.svm import SVC\n",
        "from sklearn.linear_model import LogisticRegression"
      ]
    },
    {
      "cell_type": "markdown",
      "metadata": {
        "id": "Og4fsu1Cb0Wl"
      },
      "source": [
        "CountVectorizer is used to transform a given text into a vector on the basis of the frequency (count) of each word that occurs in the entire text. It creates a matrix in which each unique word is represented by a column of the matrix, and each text sample from the document is a row in the matrix. The value of each cell is nothing but the count of the word in that particular text sample. \n",
        "\n",
        "For e.g, it would take this list \n",
        "\n",
        "document= [ “One Geek helps Two Geeks”, “Two Geeks help Four Geeks”, “Each Geek helps many other Geeks at GeeksforGeeks.”] \n",
        "\n",
        "and transform it into:\n",
        "\n",
        "<img src=\"https://media.geeksforgeeks.org/wp-content/uploads/20200706061418/table.PNG\" srcset=\"https://media.geeksforgeeks.org/wp-content/uploads/20200706061418/table-660x107.PNG 660w, https://media.geeksforgeeks.org/wp-content/uploads/20200706061418/table-768x125.PNG 768w, https://media.geeksforgeeks.org/wp-content/uploads/20200706061418/table-1024x167.PNG 1024w, https://media.geeksforgeeks.org/wp-content/uploads/20200706061418/table.PNG,\" sizes=\"100vw\">\n",
        "\n",
        "although the words are not stored as strings but given a particular index value.\n"
      ]
    },
    {
      "cell_type": "code",
      "execution_count": null,
      "metadata": {
        "id": "smssj6ekW58P"
      },
      "outputs": [],
      "source": [
        "CV= CountVectorizer(analyzer= text_processing).fit(df['headline'])\n",
        "#print(len(CV.vocabulary_))\n",
        "headline_cv = CV.transform(df['headline'])"
      ]
    },
    {
      "cell_type": "markdown",
      "metadata": {
        "id": "N7xtYK8gW58Q"
      },
      "source": [
        "After the counting, the term weighting and normalization can be done with TF-IDF, using scikit-learn's TfidfTransformer."
      ]
    },
    {
      "cell_type": "code",
      "execution_count": null,
      "metadata": {
        "id": "shNhtHeTW58Q"
      },
      "outputs": [],
      "source": [
        "tfidf_transformer = TfidfTransformer().fit(headline_cv)\n",
        "headline_tfidf = tfidf_transformer.transform(headline_cv)\n",
        "print(headline_tfidf.shape)"
      ]
    },
    {
      "cell_type": "markdown",
      "metadata": {
        "id": "zIpx9NxIW58Q"
      },
      "source": [
        "## Splitting the data"
      ]
    },
    {
      "cell_type": "code",
      "execution_count": null,
      "metadata": {
        "id": "BKxZxiN9W58Q"
      },
      "outputs": [],
      "source": [
        "X= headline_tfidf\n",
        "y =df['is_sarcastic']\n",
        "X_train, X_test, y_train, y_test = train_test_split( X, y, test_size=0.2, random_state=101)"
      ]
    },
    {
      "cell_type": "code",
      "execution_count": null,
      "metadata": {
        "id": "9sz0P4NKb0Wn"
      },
      "outputs": [],
      "source": [
        "X.shape"
      ]
    },
    {
      "cell_type": "markdown",
      "metadata": {
        "id": "URJs0H1pW58Q"
      },
      "source": [
        "## Model Prediction"
      ]
    },
    {
      "cell_type": "markdown",
      "metadata": {
        "id": "BJSYJpx1W58R"
      },
      "source": [
        "### Naive Bayes"
      ]
    },
    {
      "cell_type": "code",
      "execution_count": null,
      "metadata": {
        "id": "HuAG8FYbjbD5"
      },
      "outputs": [],
      "source": [
        "import pickle\n",
        "from sklearn.pipeline import Pipeline"
      ]
    },
    {
      "cell_type": "code",
      "execution_count": null,
      "metadata": {
        "id": "LsogqdTxW58R"
      },
      "outputs": [],
      "source": [
        " def get_Naive_Bayes_model(X_train, X_test, y_train, y_test):\n",
        "    NB_model = MultinomialNB()\n",
        "    NB_model.fit(X_train,y_train)\n",
        "    prediction= NB_model.predict(X_test)\n",
        "\n",
        "    # save the model to disk\n",
        "    filename = 'Naive_Bayes_model.sav'\n",
        "    pickle.dump(NB_model, open(filename, 'wb'))\n",
        "\n",
        "    # uncomment the section beneath to load\n",
        "    \n",
        "    # load_NB_model = pickle.load(open(filename, 'rb'))\n",
        "    # result = load_NB_model.score(X_test, y_test)\n",
        "\n",
        "    print('Confusion_matrix')\n",
        "    print(confusion_matrix(prediction,y_test))\n",
        "\n",
        "    print('Classification Report')\n",
        "    print(classification_report(prediction,y_test))"
      ]
    },
    {
      "cell_type": "code",
      "execution_count": null,
      "metadata": {
        "id": "BnLd6dkmW58R"
      },
      "outputs": [],
      "source": [
        "get_Naive_Bayes_model(X_train, X_test, y_train, y_test)"
      ]
    },
    {
      "cell_type": "code",
      "execution_count": null,
      "metadata": {
        "id": "veydiJmjb0Wp"
      },
      "outputs": [],
      "source": [
        "pipeline = Pipeline([\n",
        "    ('bow', CountVectorizer(analyzer= preprocess)),  # strings to token integer counts\n",
        "    ('tfidf', TfidfTransformer()),  # integer counts to weighted TF-IDF scores\n",
        "    ('classifier', MultinomialNB()),  # train on TF-IDF vectors w/ Naive Bayes classifier\n",
        "])\n",
        "\n",
        "Nbmodel = pipeline.fit(df['headline'][:30000],df['is_sarcastic'][:30000])\n",
        "Nbmodel.predict('True bonding is when you and your friends are all angry about the same thing')\n",
        "\n",
        "# def prediction(text):\n",
        "#     text \n",
        "#     with open('Naive_Bayes_model.sav','rb') as Nbmodel:\n",
        "#         savedNB_model = pickle.load(Nbmodel)\n",
        "        \n",
        "    # savedNB_model.predict(text)\n"
      ]
    },
    {
      "cell_type": "code",
      "execution_count": null,
      "metadata": {
        "id": "sbQeAnajb0Wq"
      },
      "outputs": [],
      "source": [
        "samples=[['That\\'s just what I needed today!'],\n",
        "          ['Well, what a surprise.'],\n",
        "          ['Very good; well done!'],\n",
        "          ['I love the DSI!'],\n",
        "          ['Are we done yet?'],\n",
        "          ['Is it time for your medication or mine?'],\n",
        "          [\"Man Accused of Killing Lawyer Receives a New Attorney\"]\n",
        "        ]\n",
        "        \n",
        "\n",
        "for i in samples:\n",
        "    result = Nbmodel.predict(i)\n",
        "    print(result)\n",
        "\n",
        "\n"
      ]
    },
    {
      "cell_type": "code",
      "execution_count": null,
      "metadata": {
        "id": "PX52mgXxb0Wq"
      },
      "outputs": [],
      "source": [
        ""
      ]
    },
    {
      "cell_type": "markdown",
      "metadata": {
        "id": "WvVHk-XYW58R"
      },
      "source": [
        "### Support Vector Machine"
      ]
    },
    {
      "cell_type": "code",
      "execution_count": null,
      "metadata": {
        "id": "oheP4hwzW58R"
      },
      "outputs": [],
      "source": [
        " def get_SVC_model(X_train, X_test, y_train, y_test):\n",
        "    SVC_model = SVC(gamma='scale')\n",
        "    SVC_model.fit(X_train,y_train)\n",
        "    pred= SVC_model.predict(X_test)\n",
        "\n",
        "    # save the model to disk\n",
        "    filename = 'SVC_model.sav'\n",
        "    pickle.dump(SVC_model, open(filename, 'wb'))\n",
        "\n",
        "    # uncomment the section beneath to load\n",
        "    \n",
        "    # load_SVC_model = pickle.load(open(filename, 'rb'))\n",
        "    # result = load_SVC_model.score(X_test, y_test)\n",
        "\n",
        "\n",
        "    print('Confusion_matrix')\n",
        "    print(confusion_matrix(pred,y_test))\n",
        "\n",
        "    print('Classification Report')\n",
        "    print(classification_report(pred,y_test))"
      ]
    },
    {
      "cell_type": "code",
      "execution_count": null,
      "metadata": {
        "id": "aITHukG2W58S"
      },
      "outputs": [],
      "source": [
        "get_SVC_model(X_train, X_test, y_train, y_test)"
      ]
    },
    {
      "cell_type": "markdown",
      "metadata": {
        "id": "WZJe_3rQW58S"
      },
      "source": [
        "### Logistic Regression"
      ]
    },
    {
      "cell_type": "code",
      "execution_count": null,
      "metadata": {
        "id": "T-A_KXDtW58S"
      },
      "outputs": [],
      "source": [
        "def get_Log_Reg_model(X_train, X_test, y_train, y_test):\n",
        "    Log_model = LogisticRegression(solver='saga')\n",
        "    Log_model.fit(X_train,y_train)\n",
        "    pred2= Log_model.predict(X_test)\n",
        "    \n",
        "    # save the model to disk\n",
        "    filename = 'Log_Reg_model.sav'\n",
        "    pickle.dump(Log_model, open(filename, 'wb'))\n",
        "\n",
        "    # uncomment the section beneath to load.\n",
        "    \n",
        "    # load_Log_model = pickle.load(open(filename, 'rb'))\n",
        "    # result = load_Log_model.score(X_test, Y_test)\n",
        "\n",
        "    print('Confusion_matrix')\n",
        "    print(confusion_matrix(pred2,y_test))\n",
        "\n",
        "    print('Classification Report')\n",
        "    print(classification_report(pred2,y_test))"
      ]
    },
    {
      "cell_type": "code",
      "execution_count": null,
      "metadata": {
        "id": "2CggVe5UW58S"
      },
      "outputs": [],
      "source": [
        "get_Log_Reg_model(X_train, X_test, y_train, y_test)"
      ]
    },
    {
      "cell_type": "code",
      "execution_count": null,
      "metadata": {
        "id": "j2cxyfHab0Ws"
      },
      "outputs": [],
      "source": [
        ""
      ]
    },
    {
      "cell_type": "markdown",
      "metadata": {
        "id": "rzmBpXwtW58S"
      },
      "source": [
        "Among the three different Ml algorithms, Support Vector Machine classifier gives the best performance metric"
      ]
    },
    {
      "cell_type": "markdown",
      "metadata": {
        "id": "_iZEGhMbcsbV"
      },
      "source": [
        "## Deployment \n",
        "### Building the dashboard using Gradio"
      ]
    },
    {
      "cell_type": "code",
      "execution_count": null,
      "metadata": {
        "id": "EKMRJs5ucs8T"
      },
      "outputs": [],
      "source": [
        "# Installing gradio\n",
        "!pip install gradio"
      ]
    },
    {
      "cell_type": "code",
      "execution_count": null,
      "metadata": {
        "id": "D7Qlb25deKvJ"
      },
      "outputs": [],
      "source": [
        "# Importing necessary libraries\n",
        "import gradio as gr\n",
        "import re"
      ]
    },
    {
      "cell_type": "code",
      "execution_count": null,
      "metadata": {
        "id": "hmgO_ALOdx4n"
      },
      "outputs": [],
      "source": [
        "def make_prediction(text):\n",
        "    '''function to implement selected model, clean some input text, and make a \n",
        "    prediction which would integrate with the Gradio web app\n",
        "    '''\n",
        "    # cleaning input text\n",
        "    text = text.encode(\"ascii\", errors=\"ignore\").decode(\n",
        "        \"ascii\"\n",
        "    )  # remove non-ascii, Chinese characters\n",
        "    text = text.lower()  # lower case\n",
        "    text = re.sub(r\"\\n\", \" \", text)\n",
        "    text = re.sub(r\"\\n\\n\", \" \", text)\n",
        "    text = re.sub(r\"\\t\", \" \", text)\n",
        "    text = text.strip(\" \")\n",
        "    text = re.sub(r\"[^\\w\\s]\", \"\", text)  # remove punctuation and special characters\n",
        "    text = re.sub(\n",
        "        \" +\", \" \", text\n",
        "    ).strip()  # get rid of multiple spaces and replace with a single\n",
        "\n",
        "    # creating dict to save results\n",
        "    res_dict = dict({'label': '', 'score': ''})\n",
        "    test_vec = tfidf_transformer.transform([text])\n",
        "\n",
        "    # condition to save predction as sarcastic or not\n",
        "    if svc.predict(test_vec)[0] > 0.5:\n",
        "      res_dict['score'] = svc.predict(test_vec)[0]\n",
        "      res_dict['label'] = 'POSITIVE'\n",
        "    else:\n",
        "      res_dict['score'] = svc.predict(test_vec)[0]\n",
        "      res_dict['label'] = 'NEGATIVE'\n",
        "\n",
        "    # return res_dict['label'], res_dict['score']\n",
        "    return res_dict['label']"
      ]
    },
    {
      "cell_type": "code",
      "execution_count": null,
      "metadata": {
        "id": "coYOyl99dx-q"
      },
      "outputs": [],
      "source": [
        "# Samples of text that can be used directly on the web app for showcasing it\n",
        "samples=[['Parents Ask If Son Wouldn’t Mind Stopping By To Fix Gaping Void In Their Lives'], # The Onion\n",
        "          ['The Kardashians Are Back. Why Should We Care?'], # Vice News\n",
        "          ['Macron hints at compromise over plan to raise retirement age'], # The Guardian\n",
        "          ['San Diego zoo acquires chinese man'], # The Onion\n",
        "          ['The DSI rocks!'],\n",
        "          ['Report: North Korea just enjoys nuclear talks'], # The Onion\n",
        "          ['Russia\\'s invasion of Ukraine is under new management'], # The Economist\n",
        "          ['Financial Advisor Recommends Fraud']] # The Onion\n",
        "\n",
        "article = '''\n",
        "<!DOCTYPE html>\n",
        "<html>\n",
        "<body>\n",
        "<br>\n",
        "<p>\n",
        "DSI Module 3 - Team: Air Quotes\n",
        "</p>\n",
        "<p><i>Composed of: Nmeso, Mekondjo, Lali, and Akhil</i></p> \n",
        "</body>\n",
        "</html>\n",
        "'''\n",
        "\n",
        "gradio_ui = gr.Interface(\n",
        "    fn= make_prediction,\n",
        "    title=\"Sarcasm Detector\",\n",
        "    description=\"Enter some text and see if the model can evaluate sarcasm correctly. <br> \\\n",
        "    Some sample texts can be selected below.\",\n",
        "    theme = 'huggingface',\n",
        "    examples = samples,\n",
        "    article = article,\n",
        "    inputs=gr.inputs.Textbox(lines=10, label=\"Enter some text here:\"),\n",
        "    outputs=[\n",
        "        gr.outputs.Textbox(label=\"Sarcasm Label\")#,\n",
        "        #gr.outputs.Textbox(label=\"Sarcasm Score\"),\n",
        "    ],\n",
        ")"
      ]
    },
    {
      "cell_type": "code",
      "execution_count": null,
      "metadata": {
        "id": "TNbGxXAsemH-"
      },
      "outputs": [],
      "source": [
        "# Launching the dashboard. The link works for 24 hours and as long as your notebook is running\n",
        "gradio_ui.launch(debug=True, share=True)"
      ]
    }
  ],
  "metadata": {
    "colab": {
      "collapsed_sections": [
        "BJSYJpx1W58R",
        "WvVHk-XYW58R"
      ],
      "name": "Sarcasm project.ipynb",
      "provenance": []
    },
    "kernelspec": {
      "display_name": "Python 3",
      "language": "python",
      "name": "python3"
    },
    "language_info": {
      "codemirror_mode": {
        "name": "ipython",
        "version": 3
      },
      "file_extension": ".py",
      "mimetype": "text/x-python",
      "name": "python",
      "nbconvert_exporter": "python",
      "pygments_lexer": "ipython3",
      "version": "3.9.7"
    }
  },
  "nbformat": 4,
  "nbformat_minor": 0
}